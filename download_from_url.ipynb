{
 "cells": [
  {
   "cell_type": "code",
   "execution_count": null,
   "id": "c97e19e7-a880-4bb5-84c9-2315447a319f",
   "metadata": {},
   "outputs": [],
   "source": [
    "#import necessary libraries\n",
    "import os,sys\n",
    "import os.path\n",
    "import webbrowser, time"
   ]
  },
  {
   "cell_type": "code",
   "execution_count": null,
   "id": "f7d2f3aa-5ede-4453-8690-fc23fdf41fc4",
   "metadata": {},
   "outputs": [],
   "source": [
    "#check every url in the list\n",
    "for url in open('C:/....txt'):\n",
    "    url=url.rstrip('\\n')#remove \\n from the text\n",
    "    print (url)\n",
    "    webbrowser.open(url)#open the url with the default webbrowser to download it\n",
    "    while not os.path.exists ('C:/.../'+ url[-45:]):#check if the file exists. If not, it will wait before downloading another file\n",
    "        time.sleep(1)"
   ]
  }
 ],
 "metadata": {
  "kernelspec": {
   "display_name": "Python 3 (ipykernel)",
   "language": "python",
   "name": "python3"
  },
  "language_info": {
   "codemirror_mode": {
    "name": "ipython",
    "version": 3
   },
   "file_extension": ".py",
   "mimetype": "text/x-python",
   "name": "python",
   "nbconvert_exporter": "python",
   "pygments_lexer": "ipython3",
   "version": "3.7.11"
  }
 },
 "nbformat": 4,
 "nbformat_minor": 5
}
