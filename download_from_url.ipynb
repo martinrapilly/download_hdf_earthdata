{
 "cells": [
  {
   "cell_type": "code",
   "execution_count": null,
   "id": "c97e19e7-a880-4bb5-84c9-2315447a319f",
   "metadata": {},
   "outputs": [],
   "source": [
    "#import necessary libraries\n",
    "import os,sys,requests,ntpath\n",
    "import os.path\n",
    "import webbrowser, time\n",
    "\n",
    "username=\"martinrapilly\"#enter earthdata username\n",
    "password=\"Felixsav1\"#enter earthdata password\n",
    "\n",
    "tempFolder=\"C:/Users/marti/Downloads/MOD13Q1\""
   ]
  },
  {
   "cell_type": "code",
   "execution_count": null,
   "id": "f7d2f3aa-5ede-4453-8690-fc23fdf41fc4",
   "metadata": {},
   "outputs": [],
   "source": [
    "#check every url in the list\n",
    "for url in open('C:/Users/marti/Downloads/1206374624-download.txt'):\n",
    "    url=url.rstrip('\\n')#remove \\n from the text\n",
    "    print (url)\n",
    "    basename=ntpath.basename(url)\n",
    "    print (basename)\n",
    "    with requests.Session() as session:\n",
    "        session.auth = (username, password)\n",
    "        r1 = session.request('get', url)\n",
    "        r = session.get(r1.url, auth=(username, password))\n",
    "        if r.ok:\n",
    "            print (len(r.content))\n",
    "            open(tempFolder+\"/\"+url[-len(basename):],'wb').write(r.content)#\n",
    "            print(\"file imported: \"+ tempFolder+\"/\"+url[-len(basename):])\n",
    "    \n",
    "    while not os.path.exists (tempFolder+\"/\"+url[-len(basename):]):#check if the file exists. If not, it will wait before downloading another file\n",
    "        time.sleep(1)"
   ]
  }
 ],
 "metadata": {
  "kernelspec": {
   "display_name": "Python 3 (ipykernel)",
   "language": "python",
   "name": "python3"
  },
  "language_info": {
   "codemirror_mode": {
    "name": "ipython",
    "version": 3
   },
   "file_extension": ".py",
   "mimetype": "text/x-python",
   "name": "python",
   "nbconvert_exporter": "python",
   "pygments_lexer": "ipython3",
   "version": "3.7.11"
  }
 },
 "nbformat": 4,
 "nbformat_minor": 5
}
